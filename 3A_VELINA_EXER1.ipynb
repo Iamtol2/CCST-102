{
  "nbformat": 4,
  "nbformat_minor": 0,
  "metadata": {
    "colab": {
      "provenance": []
    },
    "kernelspec": {
      "name": "python3",
      "display_name": "Python 3"
    },
    "language_info": {
      "name": "python"
    }
  },
  "cells": [
    {
      "cell_type": "markdown",
      "source": [
        "**DATA PREPROCESSING**"
      ],
      "metadata": {
        "id": "9_5gI0SCW3M9"
      }
    },
    {
      "cell_type": "markdown",
      "source": [
        "**LIBRARIES**"
      ],
      "metadata": {
        "id": "4pF1ZWV_WN0J"
      }
    },
    {
      "cell_type": "code",
      "execution_count": 8,
      "metadata": {
        "id": "xoZDT5hSWDmZ"
      },
      "outputs": [],
      "source": [
        "import pandas as pd\n",
        "import numpy as np\n",
        "import matplotlib.pyplot as plt\n",
        "from sklearn.model_selection import train_test_split"
      ]
    },
    {
      "cell_type": "code",
      "source": [
        "data = pd.read_csv(\"datasets_house_prices.csv\")\n",
        "print(data.head())\n",
        "print(data.isnull().sum())"
      ],
      "metadata": {
        "colab": {
          "base_uri": "https://localhost:8080/"
        },
        "id": "JOWkO7D_WTJ1",
        "outputId": "ea48749f-18da-439b-82cb-a2dd82919114"
      },
      "execution_count": 3,
      "outputs": [
        {
          "output_type": "stream",
          "name": "stdout",
          "text": [
            "   Size (sqft)  Bedrooms  Age  Proximity to Downtown (miles)         Price\n",
            "0         3974         1   97                       2.032719  1.162771e+06\n",
            "1         1660         5   88                      23.695207  4.900021e+05\n",
            "2         2094         4   49                       6.440232  6.400737e+05\n",
            "3         1930         2   28                       8.129315  5.637881e+05\n",
            "4         1895         1   56                       5.358837  5.651289e+05\n",
            "Size (sqft)                      0\n",
            "Bedrooms                         0\n",
            "Age                              0\n",
            "Proximity to Downtown (miles)    0\n",
            "Price                            0\n",
            "dtype: int64\n"
          ]
        }
      ]
    },
    {
      "cell_type": "code",
      "source": [
        "data['Size (sqft)'] = (data['Size (sqft)'] - data['Size (sqft)'].min()) / (data['Size (sqft)'].max() - data['Size (sqft)'].min())\n",
        "data['Bedrooms'] = (data['Bedrooms'] - data['Bedrooms'].min()) / (data['Bedrooms'].max() - data['Bedrooms'].min())\n",
        "data['Age'] = (data['Age'] - data['Age'].min()) / (data['Age'].max() - data['Age'].min())\n",
        "data['Proximity to Downtown (miles)'] = (data['Proximity to Downtown (miles)'] - data['Proximity to Downtown (miles)'].min()) / (data['Proximity to Downtown (miles)'].max() - data['Proximity to Downtown (miles)'].min())\n",
        "\n",
        "print(data.head())"
      ],
      "metadata": {
        "colab": {
          "base_uri": "https://localhost:8080/"
        },
        "id": "LSyCyUVtWnk5",
        "outputId": "b25c8fda-129b-48f8-c3de-89fb4d296e9d"
      },
      "execution_count": 4,
      "outputs": [
        {
          "output_type": "stream",
          "name": "stdout",
          "text": [
            "   Size (sqft)  Bedrooms       Age  Proximity to Downtown (miles)  \\\n",
            "0     0.992804      0.00  0.979798                       0.052059   \n",
            "1     0.268773      1.00  0.888889                       0.787993   \n",
            "2     0.404568      0.75  0.494949                       0.201794   \n",
            "3     0.353254      0.25  0.282828                       0.259177   \n",
            "4     0.342303      0.00  0.565657                       0.165056   \n",
            "\n",
            "          Price  \n",
            "0  1.162771e+06  \n",
            "1  4.900021e+05  \n",
            "2  6.400737e+05  \n",
            "3  5.637881e+05  \n",
            "4  5.651289e+05  \n"
          ]
        }
      ]
    },
    {
      "cell_type": "markdown",
      "source": [
        "MODEL IMPLEMENTATION"
      ],
      "metadata": {
        "id": "7susrSj3W-oT"
      }
    },
    {
      "cell_type": "code",
      "source": [
        "def linear_regression(X, y, epochs=1000, lr=0.01):\n",
        "    # Initialize weights (theta) and bias (intercept)\n",
        "    m, n = X.shape\n",
        "    theta = np.zeros(n)  # slope coefficients\n",
        "    bias = 0  # intercept\n",
        "\n",
        "    for _ in range(epochs):\n",
        "        y_pred = np.dot(X, theta) + bias\n",
        "        d_theta = -(2/m) * np.dot(X.T, (y - y_pred))  # Gradient for theta\n",
        "        d_bias = -(2/m) * np.sum(y - y_pred)  # Gradient for bias\n",
        "        theta -= lr * d_theta  # Update weights\n",
        "        bias -= lr * d_bias  # Update intercept\n",
        "\n",
        "    return theta, bias"
      ],
      "metadata": {
        "id": "M-QQw3FpWwIx"
      },
      "execution_count": 5,
      "outputs": []
    },
    {
      "cell_type": "code",
      "source": [
        "X = data[['Size (sqft)', 'Bedrooms', 'Age', 'Proximity to Downtown (miles)']].values\n",
        "y = data['Price'].values\n"
      ],
      "metadata": {
        "id": "mToj1iz_XQfo"
      },
      "execution_count": 6,
      "outputs": []
    },
    {
      "cell_type": "code",
      "source": [
        "theta, bias = linear_regression(X, y)\n",
        "\n",
        "print(f\"Model parameters (slopes): {theta}\")\n",
        "print(f\"Model intercept: {bias}\")"
      ],
      "metadata": {
        "colab": {
          "base_uri": "https://localhost:8080/"
        },
        "id": "ebJJDcCLXSFY",
        "outputId": "46316212-80fb-49bd-dbeb-c20789818312"
      },
      "execution_count": 7,
      "outputs": [
        {
          "output_type": "stream",
          "name": "stdout",
          "text": [
            "Model parameters (slopes): [804980.66633866   8190.78231072   9928.70741198  -2242.47801108]\n",
            "Model intercept: 303246.04962246557\n"
          ]
        }
      ]
    },
    {
      "cell_type": "markdown",
      "source": [
        "MODEL DEVELOPMENT"
      ],
      "metadata": {
        "id": "AE6SkM-NXVrg"
      }
    },
    {
      "cell_type": "code",
      "source": [
        "X_train, X_test, y_train, y_test = train_test_split(X, y, test_size=0.2, random_state=42)\n",
        "\n",
        "theta_train, bias_train = linear_regression(X_train, y_train)\n",
        "\n",
        "def predict(X, theta, bias):\n",
        "    return np.dot(X, theta) + bias\n",
        "\n",
        "\n",
        "y_train_pred = predict(X_train, theta_train, bias_train)\n",
        "\n",
        "\n",
        "mse_train = np.mean((y_train - y_train_pred) ** 2)\n",
        "print(f\"Training MSE: {mse_train}\")"
      ],
      "metadata": {
        "colab": {
          "base_uri": "https://localhost:8080/"
        },
        "id": "E7be46yaXTd4",
        "outputId": "50532016-1401-4a62-a4e0-87218c09f39b"
      },
      "execution_count": 9,
      "outputs": [
        {
          "output_type": "stream",
          "name": "stdout",
          "text": [
            "Training MSE: 2166894633.599491\n"
          ]
        }
      ]
    },
    {
      "cell_type": "markdown",
      "source": [
        "MODEL EVALUATION"
      ],
      "metadata": {
        "id": "GPPLayzWXfM0"
      }
    },
    {
      "cell_type": "code",
      "source": [
        "y_test_pred = predict(X_test, theta_train, bias_train)\n",
        "\n",
        "\n",
        "mse_test = np.mean((y_test - y_test_pred) ** 2)\n",
        "print(f\"Test MSE: {mse_test}\")\n",
        "\n",
        "\n",
        "plt.scatter(y_test, y_test_pred, color='blue')\n",
        "plt.plot([min(y_test), max(y_test)], [min(y_test_pred), max(y_test_pred)], color='red')\n",
        "plt.xlabel('Actual Prices')\n",
        "plt.ylabel('Predicted Prices')\n",
        "plt.title('Actual vs Predicted House Prices')\n",
        "plt.show()"
      ],
      "metadata": {
        "colab": {
          "base_uri": "https://localhost:8080/",
          "height": 489
        },
        "id": "ffqVxIp1Xc7p",
        "outputId": "651fbcc4-2c4e-481d-b543-a356489e075a"
      },
      "execution_count": 10,
      "outputs": [
        {
          "output_type": "stream",
          "name": "stdout",
          "text": [
            "Test MSE: 1933542722.2415838\n"
          ]
        },
        {
          "output_type": "display_data",
          "data": {
            "text/plain": [
              "<Figure size 640x480 with 1 Axes>"
            ],
            "image/png": "[encoded data removed]"
          },
          "metadata": {}
        }
      ]
    },
    {
      "cell_type": "code",
      "source": [],
      "metadata": {
        "id": "_Oh3NHjbXjtX"
      },
      "execution_count": null,
      "outputs": []
    }
  ]
}